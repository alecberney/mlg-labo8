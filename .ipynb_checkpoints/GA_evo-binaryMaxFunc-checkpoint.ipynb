{
 "cells": [
  {
   "cell_type": "code",
   "execution_count": 1,
   "metadata": {},
   "outputs": [],
   "source": [
    "from pyevolve import G1DBinaryString\n",
    "from pyevolve import GSimpleGA\n",
    "from pyevolve import Selectors\n",
    "from pyevolve import Statistics"
   ]
  },
  {
   "cell_type": "code",
   "execution_count": 2,
   "metadata": {},
   "outputs": [],
   "source": [
    "def fitness(chromosome):\n",
    "    score = 0.0\n",
    "    values = []\n",
    "    # iterate over the chromosome\n",
    "    for i in range(0,len(chromosome),4):\n",
    "        value = chromosome[i+3]+chromosome[i+2]*2+chromosome[i+1]*4+chromosome[i]*8\n",
    "        if (value == 0):\n",
    "            value = 16\n",
    "        values.append(value)\n",
    "    score = (values[0]*values[1]*values[2]*values[3])/(values[4]*values[5]*values[6]*values[7])\n",
    "    return score"
   ]
  },
  {
   "cell_type": "code",
   "execution_count": 3,
   "metadata": {},
   "outputs": [
    {
     "name": "stdout",
     "output_type": "stream",
     "text": [
      "Gen. 0 (0.00%): Max/Min/Avg Fitness(Raw)             [15.45(720.00)/12.82(0.00)/12.87(12.87)]\n",
      "Gen. 10 (10.00%): Max/Min/Avg Fitness(Raw)             [10996.23(26880.00)/8219.45(37.33)/9163.52(9163.52)]\n",
      "Gen. 20 (20.00%): Max/Min/Avg Fitness(Raw)             [24040.06(30720.00)/12662.97(375.00)/20033.38(20033.38)]\n",
      "Gen. 30 (30.00%): Max/Min/Avg Fitness(Raw)             [33080.42(32768.00)/0.00(1024.00)/25347.13(25347.13)]\n",
      "Gen. 40 (40.00%): Max/Min/Avg Fitness(Raw)             [33031.30(32768.00)/0.00(682.67)/23837.35(23837.35)]\n",
      "Gen. 50 (50.00%): Max/Min/Avg Fitness(Raw)             [32832.23(32768.00)/0.00(256.00)/26246.54(26246.54)]\n",
      "Gen. 60 (60.00%): Max/Min/Avg Fitness(Raw)             [32863.03(32768.00)/0.00(512.00)/27718.20(27718.20)]\n",
      "Gen. 70 (70.00%): Max/Min/Avg Fitness(Raw)             [32920.51(32768.00)/0.00(409.60)/23988.45(23988.45)]\n",
      "Gen. 80 (80.00%): Max/Min/Avg Fitness(Raw)             [32805.49(32768.00)/0.00(102.40)/24014.47(24014.47)]\n",
      "Gen. 90 (90.00%): Max/Min/Avg Fitness(Raw)             [33000.14(32768.00)/0.00(819.20)/25713.55(25713.55)]\n",
      "Gen. 100 (100.00%): Max/Min/Avg Fitness(Raw)             [32907.49(32768.00)/0.00(512.00)/25861.69(25861.69)]\n",
      "Total time elapsed: 0.523 seconds.\n",
      "- GenomeBase\n",
      "\tScore:\t\t\t 32768.000000\n",
      "\tFitness:\t\t 32907.490126\n",
      "\n",
      "\tParams:\t\t {}\n",
      "\n",
      "\tSlot [Evaluator] (Count: 1)\n",
      "\t\tName: fitness - Weight: 0.50\n",
      "\tSlot [Initializator] (Count: 1)\n",
      "\t\tName: G1DBinaryStringInitializator - Weight: 0.50\n",
      "\t\tDoc:  1D Binary String initializator \n",
      "\tSlot [Mutator] (Count: 1)\n",
      "\t\tName: G1DBinaryStringMutatorFlip - Weight: 0.50\n",
      "\t\tDoc:  The classical flip mutator for binary strings \n",
      "\tSlot [Crossover] (Count: 1)\n",
      "\t\tName: G1DBinaryStringXSinglePoint - Weight: 0.50\n",
      "\t\tDoc:  The crossover of 1D Binary String, Single Point\n",
      "\n",
      "    .. warning:: You can't use this crossover method for binary strings with length of 1.\n",
      "\n",
      "    \n",
      "\n",
      "- G1DBinaryString\n",
      "\tString length:\t 32\n",
      "\tString:\t\t 00000000000000000001000100100001\n",
      "\n",
      "\n"
     ]
    }
   ],
   "source": [
    "# Chromosome representation\n",
    "\n",
    "# genome = bitstring\n",
    "genome = G1DBinaryString.G1DBinaryString(32)\n",
    "\n",
    "# how to compute the fitness\n",
    "genome.evaluator.set(fitness)\n",
    "\n",
    "# GA initialisation\n",
    "ga = GSimpleGA.GSimpleGA(genome, seed=999)\n",
    "ga.setPopulationSize(100)\n",
    "ga.setMutationRate(0.01)\n",
    "ga.setCrossoverRate(0.9)\n",
    "ga.selector.set(Selectors.GTournamentSelector)\n",
    "ga.setElitism(True)\n",
    "\n",
    "# Number of generations\n",
    "ga.setGenerations(100)\n",
    "\n",
    "# In case we want to monitor the evolution process\n",
    "# execute the function current_best every generation\n",
    "#ga.stepCallback.set(current_best)\n",
    "\n",
    "ga.evolve(freq_stats=10)\n",
    "\n",
    "# Final best solution\n",
    "print(ga.bestIndividual())"
   ]
  }
 ],
 "metadata": {
  "kernelspec": {
   "display_name": "Python 3",
   "language": "python",
   "name": "python3"
  },
  "language_info": {
   "codemirror_mode": {
    "name": "ipython",
    "version": 3
   },
   "file_extension": ".py",
   "mimetype": "text/x-python",
   "name": "python",
   "nbconvert_exporter": "python",
   "pygments_lexer": "ipython3",
   "version": "3.7.13"
  }
 },
 "nbformat": 4,
 "nbformat_minor": 1
}
