{
 "cells": [
  {
   "cell_type": "markdown",
   "metadata": {},
   "source": [
    "# THE BURMAN TRAVELING SALESMAN PROBLEM (TSP) "
   ]
  },
  {
   "cell_type": "markdown",
   "metadata": {},
   "source": [
    "The travelling salesman problem (TSP) asks the following question: Given a list of cities and the distances between each pair of cities, what is the shortest possible route that visits each city exactly once and returns to the origin city? It is an NP-hard problem in combinatorial optimization, important in operations research and theoretical computer science [Wikipedia].\n",
    "\n",
    "The objective of this exercise is to solve the TSP problem for a set of 14 cities in Burma, officially the Republic of the Union of Myanmar. The following vectors give the GPS position of each city.\n",
    "\n",
    "   LAT = [16.47, 16.47, 20.09, 22.39, 25.23, 22.00, 20.47,\n",
    "          17.20, 16.30, 14.05, 16.53, 21.52, 19.41, 20.09]\n",
    "\n",
    "   LON = [96.10, 94.44, 92.54, 93.37, 97.24, 96.05, 97.02,\n",
    "          96.29, 97.38, 98.12, 97.38, 95.59, 97.13, 94.55]\n",
    "  \n",
    "Consider that the distance between two cities is not the Euclidean distance. You have to consider that they are points on the surface of the Earth, which can be considered to be an oblate spheroid.\n",
    "\n",
    "In this application, we are interested in getting the best solution as possible (e.g., the shortest path). However, notice that we do not know the optimal solution beforehand, so you have to try the GA several times to check if there is a better solution. In this experiment we are not evaluating the capabilities of the Genetic Algorithm, so you do not have to test it using different parameters (mutation and crossover rates, population, etc) to show this, but you may need to try different parameters to be able to find a better solution to your problem.I hope this is clear sourire"
   ]
  },
  {
   "cell_type": "markdown",
   "metadata": {},
   "source": [
    "## Install libraries and imports"
   ]
  },
  {
   "cell_type": "markdown",
   "metadata": {},
   "source": [
    "Vincenty library is used to calculate the distance between to GPS point on earth. [Vincenty link](https://pypi.org/project/vincenty/)"
   ]
  },
  {
   "cell_type": "code",
   "execution_count": 1,
   "metadata": {},
   "outputs": [
    {
     "name": "stdout",
     "output_type": "stream",
     "text": [
      "Collecting vincenty\n",
      "  Using cached vincenty-0.1.4.tar.gz (2.8 kB)\n",
      "Building wheels for collected packages: vincenty\n",
      "  Building wheel for vincenty (setup.py): started\n",
      "  Building wheel for vincenty (setup.py): finished with status 'done'\n",
      "  Created wheel for vincenty: filename=vincenty-0.1.4-py3-none-any.whl size=3080 sha256=319072a30c98e64fe63114f8e962eeec5ceb5214bcc2ac8ed96cc22dd2ada696\n",
      "  Stored in directory: c:\\users\\alecb\\appdata\\local\\pip\\cache\\wheels\\2f\\4d\\df\\6e2ce31c63c93508b38ed9098c1483e7616b55a6ddabcd2f5b\n",
      "Successfully built vincenty\n",
      "Installing collected packages: vincenty\n",
      "Successfully installed vincenty-0.1.4\n"
     ]
    }
   ],
   "source": [
    "!pip install vincenty"
   ]
  },
  {
   "cell_type": "code",
   "execution_count": 2,
   "metadata": {},
   "outputs": [],
   "source": [
    "from pyevolve import G1DList\n",
    "from pyevolve import GSimpleGA\n",
    "from pyevolve import Selectors\n",
    "from pyevolve import Statistics\n",
    "from vincenty import vincenty"
   ]
  },
  {
   "cell_type": "markdown",
   "metadata": {},
   "source": [
    "## Defining datas\n",
    "Indexes is used as city ID"
   ]
  },
  {
   "cell_type": "code",
   "execution_count": 4,
   "metadata": {},
   "outputs": [],
   "source": [
    "cities_latitude = [16.47, 16.47, 20.09, 22.39, 25.23, 22.00, 20.47, \n",
    "          17.20, 16.30, 14.05, 16.53, 21.52, 19.41, 20.09]\n",
    "cities_longitude = [96.10, 94.44, 92.54, 93.37, 97.24, 96.05, 97.02, \n",
    "          96.29, 97.38, 98.12, 97.38, 95.59, 97.13, 94.55]\n",
    "\n",
    "coordinates = list(zip(cities_latitude, cities_longitude))"
   ]
  },
  {
   "cell_type": "markdown",
   "metadata": {},
   "source": [
    " ## Defining function"
   ]
  },
  {
   "cell_type": "code",
   "execution_count": 6,
   "metadata": {},
   "outputs": [],
   "source": [
    "\"\"\"\n",
    "Calculate the distance between two lat, long coordinates.\n",
    "\n",
    "Parameters\n",
    "----------\n",
    "`origin` : tuple of float (lat, long)\n",
    "`dest`   : tuple of float (lat, long)\n",
    "\n",
    "Returns\n",
    "-------\n",
    "distance_in_km : float\n",
    "\"\"\"\n",
    "def distance(origin, destination):\n",
    "    return vincenty(origin, destination)"
   ]
  },
  {
   "cell_type": "code",
   "execution_count": 7,
   "metadata": {},
   "outputs": [],
   "source": [
    "\"\"\"\n",
    "Calculate the distances between all the towns in a list\n",
    "\n",
    "Parameters\n",
    "----------\n",
    "`coord` : List of tuples (lat, long) representing towns\n",
    "\n",
    "Returns\n",
    "-------\n",
    "Matrix containing the distances between each town\n",
    "\"\"\"\n",
    "def distance_matrix(coordinates):\n",
    "    matrix = {}\n",
    "    for i, origin in enumerate(coordinates):\n",
    "        for j, dest in enumerate(coordinates):\n",
    "            matrix[i, j] = distance(origin, dest)\n",
    "    return matrix"
   ]
  },
  {
   "cell_type": "markdown",
   "metadata": {},
   "source": [
    "## Defining Fitness"
   ]
  },
  {
   "cell_type": "code",
   "execution_count": null,
   "metadata": {},
   "outputs": [],
   "source": [
    "\"\"\"\n",
    "Fitness function for the genetic algorithm\n",
    "\n",
    "Parameters\n",
    "----------\n",
    "`genome` : the genome to fit\n",
    "\n",
    "Returns\n",
    "-------\n",
    "The score of the given genome\n",
    "\"\"\"\n",
    "def fitness(genome):\n",
    "    global distances\n",
    "    \n",
    "    score = 0.0\n",
    "\n",
    "    for i in range(len(genome)):\n",
    "        # get index of the next city\n",
    "        # note: when the src city is the last one in\n",
    "        #       the chromosome, the next one is the first one.\n",
    "        #       hence the modulo\n",
    "        j = (i + 1) % len(genome)\n",
    "        score += distances[genome[i], genome[j]]\n",
    "    return score"
   ]
  },
  {
   "cell_type": "code",
   "execution_count": 3,
   "metadata": {},
   "outputs": [],
   "source": [
    "def fitness(chromosome):\n",
    "    score = 0.0\n",
    "    values = []\n",
    "    # iterate over the chromosome\n",
    "    for i in range(0,len(chromosome),4):\n",
    "        value = chromosome[i+3]+chromosome[i+2]*2+chromosome[i+1]*4+chromosome[i]*8\n",
    "        if (value == 0):\n",
    "            value = 16\n",
    "        values.append(value)\n",
    "    score = (values[0]*values[1]*values[2]*values[3])/(values[4]*values[5]*values[6]*values[7])\n",
    "    return score\n",
    "\n",
    "# The evaluation function\n",
    "#global cm\n",
    "#return tour_length(cm, chromosome)\n",
    "\n",
    "#def tour_length(matrix, tour):\n",
    "   #Returns the total length of the tour\n",
    "   #total=0\n",
    "   #num_cities=len(tour)\n",
    "   #for i in range(num_cities):\n",
    "      #j=(i+1)%num_cities\n",
    "      #city_i=tour[i]\n",
    "      #city_j=tour[j]\n",
    "      #total+=matrix[city_i,city_j]\n",
    "   #return total"
   ]
  },
  {
   "cell_type": "code",
   "execution_count": null,
   "metadata": {},
   "outputs": [],
   "source": [
    "def cartesian_matrix(coords):\n",
    "   \"\"\" A distance matrix \"\"\"\n",
    "   matrix={}\n",
    "   for i,(x1,y1) in enumerate(coords):\n",
    "      for j,(x2,y2) in enumerate(coords):\n",
    "         dx,dy=x1-x2,y1-y2\n",
    "         dist=sqrt(dx*dx + dy*dy)\n",
    "         matrix[i,j]=dist\n",
    "   return matrix"
   ]
  },
  {
   "cell_type": "code",
   "execution_count": null,
   "metadata": {},
   "outputs": [],
   "source": [
    "def tour_length(matrix, tour):\n",
    "   \"\"\" Returns the total length of the tour \"\"\"\n",
    "   total=0\n",
    "   num_cities=len(tour)\n",
    "   for i in range(num_cities):\n",
    "      j=(i+1)%num_cities\n",
    "      city_i=tour[i]\n",
    "      city_j=tour[j]\n",
    "      total+=matrix[city_i,city_j]\n",
    "   return total"
   ]
  },
  {
   "cell_type": "code",
   "execution_count": null,
   "metadata": {},
   "outputs": [],
   "source": [
    "def G1DListTSPInitializator(genome, **args):\n",
    "   \"\"\" The initializator for the TSP \"\"\"\n",
    "   genome.clearList()\n",
    "   lst = [i for i in xrange(genome.listSize)]\n",
    "\n",
    "   for i in xrange(genome.listSize):\n",
    "      choice = random.choice(lst)\n",
    "      lst.remove(choice)\n",
    "      genome.append(choice)\n",
    "\n",
    "cm = []\n",
    "coords = []"
   ]
  },
  {
   "cell_type": "code",
   "execution_count": null,
   "metadata": {},
   "outputs": [],
   "source": [
    "def eval_func(chromosome):\n",
    "   \"\"\" The evaluation function \"\"\"\n",
    "   global cm\n",
    "   return tour_length(cm, chromosome)"
   ]
  },
  {
   "cell_type": "markdown",
   "metadata": {},
   "source": [
    "## Train"
   ]
  },
  {
   "cell_type": "code",
   "execution_count": null,
   "metadata": {},
   "outputs": [],
   "source": [
    "def init_tsp(genome, **kwargs):\n",
    "    genome.clearList()\n",
    "    lst = [i for i in range(genome.getListSize())]\n",
    "    random.shuffle(lst)\n",
    "\n",
    "    for city in lst:\n",
    "        genome.append(city)"
   ]
  },
  {
   "cell_type": "code",
   "execution_count": 3,
   "metadata": {},
   "outputs": [
    {
     "name": "stdout",
     "output_type": "stream",
     "text": [
      "Gen. 0 (0.00%): Max/Min/Avg Fitness(Raw)             [15.45(720.00)/12.82(0.00)/12.87(12.87)]\n",
      "Gen. 10 (10.00%): Max/Min/Avg Fitness(Raw)             [10996.23(26880.00)/8219.45(37.33)/9163.52(9163.52)]\n",
      "Gen. 20 (20.00%): Max/Min/Avg Fitness(Raw)             [24040.06(30720.00)/12662.97(375.00)/20033.38(20033.38)]\n",
      "Gen. 30 (30.00%): Max/Min/Avg Fitness(Raw)             [33080.42(32768.00)/0.00(1024.00)/25347.13(25347.13)]\n",
      "Gen. 40 (40.00%): Max/Min/Avg Fitness(Raw)             [33031.30(32768.00)/0.00(682.67)/23837.35(23837.35)]\n",
      "Gen. 50 (50.00%): Max/Min/Avg Fitness(Raw)             [32832.23(32768.00)/0.00(256.00)/26246.54(26246.54)]\n",
      "Gen. 60 (60.00%): Max/Min/Avg Fitness(Raw)             [32863.03(32768.00)/0.00(512.00)/27718.20(27718.20)]\n",
      "Gen. 70 (70.00%): Max/Min/Avg Fitness(Raw)             [32920.51(32768.00)/0.00(409.60)/23988.45(23988.45)]\n",
      "Gen. 80 (80.00%): Max/Min/Avg Fitness(Raw)             [32805.49(32768.00)/0.00(102.40)/24014.47(24014.47)]\n",
      "Gen. 90 (90.00%): Max/Min/Avg Fitness(Raw)             [33000.14(32768.00)/0.00(819.20)/25713.55(25713.55)]\n",
      "Gen. 100 (100.00%): Max/Min/Avg Fitness(Raw)             [32907.49(32768.00)/0.00(512.00)/25861.69(25861.69)]\n",
      "Total time elapsed: 0.523 seconds.\n",
      "- GenomeBase\n",
      "\tScore:\t\t\t 32768.000000\n",
      "\tFitness:\t\t 32907.490126\n",
      "\n",
      "\tParams:\t\t {}\n",
      "\n",
      "\tSlot [Evaluator] (Count: 1)\n",
      "\t\tName: fitness - Weight: 0.50\n",
      "\tSlot [Initializator] (Count: 1)\n",
      "\t\tName: G1DBinaryStringInitializator - Weight: 0.50\n",
      "\t\tDoc:  1D Binary String initializator \n",
      "\tSlot [Mutator] (Count: 1)\n",
      "\t\tName: G1DBinaryStringMutatorFlip - Weight: 0.50\n",
      "\t\tDoc:  The classical flip mutator for binary strings \n",
      "\tSlot [Crossover] (Count: 1)\n",
      "\t\tName: G1DBinaryStringXSinglePoint - Weight: 0.50\n",
      "\t\tDoc:  The crossover of 1D Binary String, Single Point\n",
      "\n",
      "    .. warning:: You can't use this crossover method for binary strings with length of 1.\n",
      "\n",
      "    \n",
      "\n",
      "- G1DBinaryString\n",
      "\tString length:\t 32\n",
      "\tString:\t\t 00000000000000000001000100100001\n",
      "\n",
      "\n"
     ]
    }
   ],
   "source": [
    "# Chromosome representation\n",
    "\n",
    "# genome = bitstring\n",
    "genome = G1DBinaryString.G1DBinaryString(32)\n",
    "\n",
    "# how to compute the fitness\n",
    "genome.evaluator.set(fitness)\n",
    "\n",
    "# From tsp example\n",
    "#genome.evaluator.set(eval_func)\n",
    "#genome.mutator.set(Mutators.G1DListMutatorSwap)\n",
    "#genome.crossover.set(Crossovers.G1DListCrossoverOX)\n",
    "#genome.initializator.set(G1DListTSPInitializator)\n",
    "\n",
    "# GA initialisation\n",
    "ga = GSimpleGA.GSimpleGA(genome, seed=999)\n",
    "\n",
    "# From tsp example\n",
    "#ga.setGenerations(1000)\n",
    "#ga.setMinimax(Consts.minimaxType[\"minimize\"])\n",
    "#ga.setCrossoverRate(1.0)\n",
    "#ga.setMutationRate(0.03)\n",
    "#ga.setPopulationSize(80)\n",
    "\n",
    "ga.setPopulationSize(100)\n",
    "ga.setMutationRate(0.01)\n",
    "ga.setCrossoverRate(0.9)\n",
    "ga.selector.set(Selectors.GTournamentSelector)\n",
    "ga.setElitism(True)\n",
    "\n",
    "# Number of generations\n",
    "ga.setGenerations(100)\n",
    "\n",
    "# In case we want to monitor the evolution process\n",
    "# execute the function current_best every generation\n",
    "#ga.stepCallback.set(current_best)\n",
    "\n",
    "ga.evolve(freq_stats=10)\n",
    "\n",
    "# From tsp example\n",
    "#ga.evolve(freq_stats=100)\n",
    "#best = ga.bestIndividual()\n",
    "\n",
    "# Final best solution\n",
    "print(ga.bestIndividual())"
   ]
  }
 ],
 "metadata": {
  "kernelspec": {
   "display_name": "Python 3",
   "language": "python",
   "name": "python3"
  },
  "language_info": {
   "codemirror_mode": {
    "name": "ipython",
    "version": 3
   },
   "file_extension": ".py",
   "mimetype": "text/x-python",
   "name": "python",
   "nbconvert_exporter": "python",
   "pygments_lexer": "ipython3",
   "version": "3.7.13"
  }
 },
 "nbformat": 4,
 "nbformat_minor": 1
}
